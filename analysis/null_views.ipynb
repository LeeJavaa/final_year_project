{
 "cells": [
  {
   "cell_type": "code",
   "execution_count": 6,
   "metadata": {},
   "outputs": [],
   "source": [
    "import pandas as pd\n",
    "import numpy as np\n",
    "from sklearn.metrics import mean_absolute_error, mean_squared_error"
   ]
  },
  {
   "cell_type": "code",
   "execution_count": 2,
   "metadata": {},
   "outputs": [],
   "source": [
    "df = pd.read_csv('../data/dataset/train/train.csv')"
   ]
  },
  {
   "cell_type": "code",
   "execution_count": 5,
   "metadata": {},
   "outputs": [
    {
     "name": "stdout",
     "output_type": "stream",
     "text": [
      "268.7116168405716\n"
     ]
    }
   ],
   "source": [
    "print(np.mean(df['views_per_week']))"
   ]
  },
  {
   "cell_type": "code",
   "execution_count": 14,
   "metadata": {},
   "outputs": [],
   "source": [
    "predDf = pd.read_csv('../data/dataset/models/lee/validation.csv')"
   ]
  },
  {
   "cell_type": "code",
   "execution_count": 15,
   "metadata": {},
   "outputs": [
    {
     "name": "stdout",
     "output_type": "stream",
     "text": [
      "            id likes_per_view views_per_week  actual likes ratio  \\\n",
      "0  vNoFdtcPFdk          3.50%        400-500            0.028576   \n",
      "1  H0Zbg_CqMCs          3.50%        500-600            0.036926   \n",
      "2  M0ewnewuciY          1.20%          0-100            0.011297   \n",
      "3  D1WfID6kk90          2.70%        200-300            0.027162   \n",
      "4  q1phVuNCuf0          3.40%        500-600            0.026337   \n",
      "\n",
      "   actual views ratio  likes error   views error null likes null views  \\\n",
      "0          400.922772           0.6            0      2.37%    200-300   \n",
      "1          316.959641           0.2          200      2.37%    200-300   \n",
      "2           31.428538           0.1            0      2.37%    200-300   \n",
      "3          178.151725           0.0           20      2.37%    200-300   \n",
      "4          283.306431           0.7          200      2.37%    200-300   \n",
      "\n",
      "   null likes error  null views error  new lee views error  \\\n",
      "0               0.5               100                   41   \n",
      "1               1.3                16                  233   \n",
      "2               1.3               170                   19   \n",
      "3               0.3                22                   72   \n",
      "4               0.3                83                  267   \n",
      "\n",
      "   new null views error  \n",
      "0                   132  \n",
      "1                    48  \n",
      "2                   238  \n",
      "3                    91  \n",
      "4                    14  \n"
     ]
    }
   ],
   "source": [
    "print(predDf.head())"
   ]
  },
  {
   "cell_type": "code",
   "execution_count": 22,
   "metadata": {},
   "outputs": [
    {
     "name": "stdout",
     "output_type": "stream",
     "text": [
      "1270\n",
      "749\n"
     ]
    }
   ],
   "source": [
    "print(np.sum(predDf['new lee views error']))\n",
    "print(np.sum(predDf['new null views error']))"
   ]
  }
 ],
 "metadata": {
  "kernelspec": {
   "display_name": "skripsie",
   "language": "python",
   "name": "python3"
  },
  "language_info": {
   "codemirror_mode": {
    "name": "ipython",
    "version": 3
   },
   "file_extension": ".py",
   "mimetype": "text/x-python",
   "name": "python",
   "nbconvert_exporter": "python",
   "pygments_lexer": "ipython3",
   "version": "3.10.6"
  }
 },
 "nbformat": 4,
 "nbformat_minor": 2
}
