{
 "cells": [
  {
   "cell_type": "code",
   "execution_count": 22,
   "metadata": {},
   "outputs": [],
   "source": [
    "import re\n",
    "import pandas as pd\n",
    "import numpy as np\n",
    "import matplotlib.pyplot as plt\n",
    "from sklearn.linear_model import LinearRegression\n",
    "from sklearn.preprocessing import StandardScaler\n",
    "from sklearn.metrics import mean_absolute_error, mean_squared_error"
   ]
  },
  {
   "cell_type": "code",
   "execution_count": 23,
   "metadata": {},
   "outputs": [],
   "source": [
    "def convert_duration_to_seconds(duration):\n",
    "    pattern = r'PT(\\d+H)?(\\d+M)?(\\d+S)?'\n",
    "    hours, minutes, seconds = re.match(pattern, duration).groups()\n",
    "    \n",
    "    total_seconds = 0\n",
    "    if hours:\n",
    "        total_seconds += int(hours[:-1]) * 3600\n",
    "    if minutes:\n",
    "        total_seconds += int(minutes[:-1]) * 60\n",
    "    if seconds:\n",
    "        total_seconds += int(seconds[:-1])\n",
    "    \n",
    "    return total_seconds"
   ]
  },
  {
   "cell_type": "code",
   "execution_count": 24,
   "metadata": {},
   "outputs": [],
   "source": [
    "# Import datasets\n",
    "train_df = pd.read_csv(\"../data/dataset/train/train.csv\")\n",
    "validate_df = pd.read_csv(\"../data/dataset/validation/validation.csv\")\n",
    "train_audio_df = pd.read_csv(\"../data/dataset/train/train_audio_clean.csv\")\n",
    "validate_audio_df = pd.read_csv(\"../data/dataset/validation/validation_audio_clean.csv\")\n",
    "train_audio2_df = pd.read_csv(\"../data/dataset/train/train_audio2.csv\")\n",
    "validate_audio2_df = pd.read_csv(\"../data/dataset/validation/validation_audio2.csv\")\n",
    "train_visual_df = pd.read_csv(\"../data/dataset/train/train_visual.csv\")\n",
    "validate_visual_df = pd.read_csv(\"../data/dataset/validation/validation_visual.csv\")"
   ]
  },
  {
   "cell_type": "code",
   "execution_count": 25,
   "metadata": {},
   "outputs": [],
   "source": [
    "# Merging in audio and visual data\n",
    "train_df = train_df.merge(train_visual_df, on='id')\n",
    "train_df = train_df.merge(train_audio_df, on='id')\n",
    "train_df = train_df.merge(train_audio2_df, on='id')\n",
    "validate_df = validate_df.merge(validate_visual_df, on='id')\n",
    "validate_df = validate_df.merge(validate_audio_df, on='id')\n",
    "validate_df = validate_df.merge(validate_audio2_df, on='id')"
   ]
  },
  {
   "cell_type": "code",
   "execution_count": 129,
   "metadata": {},
   "outputs": [],
   "source": [
    "# Set the input training data\n",
    "# duration_train = train_df['duration'].apply(convert_duration_to_seconds).values.reshape(-1, 1)\n",
    "X_train = train_df[['colorfulness', 'speech_rate', 'pitch_mean']]\n",
    "# X_train['duration'] = duration_train"
   ]
  },
  {
   "cell_type": "code",
   "execution_count": 139,
   "metadata": {},
   "outputs": [],
   "source": [
    "# Set the output training data\n",
    "# y_train = train_df['likes_per_view']\n",
    "y_train = train_df['views_per_week']"
   ]
  },
  {
   "cell_type": "code",
   "execution_count": 131,
   "metadata": {},
   "outputs": [],
   "source": [
    "# Set the input predictive data\n",
    "# duration_validation = validate_df['duration'].apply(convert_duration_to_seconds).values.reshape(-1, 1)\n",
    "X_validate = validate_df[['colorfulness', 'speech_rate', 'pitch_mean']]\n",
    "# X_validate['duration'] = duration_validation"
   ]
  },
  {
   "cell_type": "code",
   "execution_count": 140,
   "metadata": {},
   "outputs": [],
   "source": [
    "# Scale the features using standardization\n",
    "scaler = StandardScaler()\n",
    "X_train.reset_index()\n",
    "X_train_scaled = scaler.fit_transform(X_train)\n",
    "X_test_scaled = scaler.transform(X_validate)\n",
    "\n",
    "# Confirm scaling worked correctly\n",
    "# print(\"Training input data mean after scale = \" + str(np.mean(X_train_scaled)))\n",
    "# print(\"Training input data variance after scale = \" + str(np.var(X_train_scaled)))\n",
    "# print(\"Testing input data mean after scale = \" + str(np.mean(X_train_scaled)))\n",
    "# print(\"Testind input data variance after scale = \" + str(np.var(X_train_scaled)))"
   ]
  },
  {
   "cell_type": "code",
   "execution_count": 141,
   "metadata": {},
   "outputs": [],
   "source": [
    "# Fill Nans if necessary\n",
    "X_train_scaled[np.isnan(X_train_scaled)] = 0"
   ]
  },
  {
   "cell_type": "code",
   "execution_count": 142,
   "metadata": {},
   "outputs": [
    {
     "name": "stdout",
     "output_type": "stream",
     "text": [
      "[392.35557585 306.54503169 177.23903095 298.70381227 289.24729808\n",
      " 252.79580441 316.11439599 327.00133322 320.00855413 195.69798471\n",
      " 275.05407375 330.90216399 268.02290308 348.22252858 270.20683461\n",
      "   2.82259133 333.33088704 124.56924533 300.11956668 419.39290386\n",
      " 308.93889616 191.65097217 244.14240389 255.87376994 329.175305\n",
      " 261.99727077 389.50779594 218.01938082 304.19219858 364.52829979\n",
      " 248.60435211 324.13993222 321.66065233 329.64414515 255.62688005\n",
      " 255.17709114 205.177814    75.39210195 245.74533254 302.55407892\n",
      " 130.9396155  378.52606005 312.60470084]\n"
     ]
    }
   ],
   "source": [
    "# Fit and predict the linear regression model\n",
    "reg = LinearRegression().fit(X_train_scaled, y_train)\n",
    "predictions = reg.predict(X_test_scaled)\n",
    "print(predictions)"
   ]
  },
  {
   "cell_type": "code",
   "execution_count": 135,
   "metadata": {},
   "outputs": [],
   "source": [
    "# Output lpv predictions to csv file\n",
    "# MAKE SURE ITS THE RIGHT FILE!!!\n",
    "linreg_df = pd.DataFrame(columns=['id', 'likes_per_view_predicted', 'likes_per_view_actual'])\n",
    "linreg_df['id'] = validate_df['id']\n",
    "linreg_df['likes_per_view_predicted'] = predictions\n",
    "linreg_df['likes_per_view_actual'] = validate_df['likes_per_view']\n",
    "linreg_df.to_csv(\"../data/dataset/models/linreg/6_n.csv\", header=True, index=False)"
   ]
  },
  {
   "cell_type": "code",
   "execution_count": 143,
   "metadata": {},
   "outputs": [],
   "source": [
    "# Output vpw predictions to csv file\n",
    "# MAKE SURE ITS THE RIGHT FILE!!!!\n",
    "linreg_df['views_per_week_predicted'] = predictions\n",
    "linreg_df['views_per_week_actual'] = validate_df['views_per_week']\n",
    "linreg_df.to_csv(\"../data/dataset/models/linreg/6_n.csv\", header=True, index=False)"
   ]
  },
  {
   "cell_type": "code",
   "execution_count": 144,
   "metadata": {},
   "outputs": [
    {
     "name": "stdout",
     "output_type": "stream",
     "text": [
      "intercept: 268.7116168405715\n",
      "Feature: 0, Score: -20.69429\n",
      "Feature: 1, Score: 76.82583\n",
      "Feature: 2, Score: 23.92157\n"
     ]
    }
   ],
   "source": [
    "# Find feature importance through coefficients\n",
    "importance = reg.coef_\n",
    "\n",
    "# Find intercept\n",
    "intercept = reg.intercept_\n",
    "print(\"intercept: \" + str(intercept))\n",
    "\n",
    "# Summarize feature importance\n",
    "for i,v in enumerate(importance):\n",
    " print('Feature: %0d, Score: %.5f' % (i,v))"
   ]
  },
  {
   "cell_type": "code",
   "execution_count": 145,
   "metadata": {},
   "outputs": [
    {
     "data": {
      "image/png": "[encoded data removed]",
      "text/plain": [
       "<Figure size 640x480 with 1 Axes>"
      ]
     },
     "metadata": {},
     "output_type": "display_data"
    }
   ],
   "source": [
    "# plot feature importance\n",
    "plt.bar(['colorfulness', 'speech_rate', 'pitch_mean'], importance)\n",
    "plt.xlabel('feature')\n",
    "plt.ylabel('feature coefficient (importance)')\n",
    "plt.title('Feature Coefficient of Linear Regression Model')\n",
    "plt.show()"
   ]
  },
  {
   "cell_type": "code",
   "execution_count": 146,
   "metadata": {},
   "outputs": [
    {
     "name": "stdout",
     "output_type": "stream",
     "text": [
      "Mean Absolute Error for LPV: 0.6151952890393442\n",
      "Root Mean Squared Error for LPV: 0.7351926526143722\n",
      "Mean Absolute Error for VPW: 187.1188586667623\n",
      "Root Mean Squared Error for VPW: 349.04353689156386\n"
     ]
    }
   ],
   "source": [
    "# Calculate errors\n",
    "# Likes\n",
    "actual_outputs = linreg_df['likes_per_view_actual']*100\n",
    "predicted_outputs = linreg_df['likes_per_view_predicted']*100\n",
    "\n",
    "# Calculate Mean Absolute Error (MAE)\n",
    "mae = mean_absolute_error(actual_outputs, predicted_outputs)\n",
    "print(\"Mean Absolute Error for LPV:\", mae)\n",
    "\n",
    "# Calculate Root Mean Squared Error (RMSE)\n",
    "rmse = mean_squared_error(actual_outputs, predicted_outputs, squared=False)\n",
    "print(\"Root Mean Squared Error for LPV:\", rmse)\n",
    "\n",
    "# Views\n",
    "actual_outputs = linreg_df['views_per_week_actual']\n",
    "predicted_outputs = linreg_df['views_per_week_predicted']\n",
    "\n",
    "# Calculate Mean Absolute Error (MAE)\n",
    "mae = mean_absolute_error(actual_outputs, predicted_outputs)\n",
    "print(\"Mean Absolute Error for VPW:\", mae)\n",
    "\n",
    "# Calculate Root Mean Squared Error (RMSE)\n",
    "rmse = mean_squared_error(actual_outputs, predicted_outputs, squared=False)\n",
    "print(\"Root Mean Squared Error for VPW:\", rmse)"
   ]
  }
 ],
 "metadata": {
  "kernelspec": {
   "display_name": "skripsie",
   "language": "python",
   "name": "python3"
  },
  "language_info": {
   "codemirror_mode": {
    "name": "ipython",
    "version": 3
   },
   "file_extension": ".py",
   "mimetype": "text/x-python",
   "name": "python",
   "nbconvert_exporter": "python",
   "pygments_lexer": "ipython3",
   "version": "3.10.6"
  },
  "orig_nbformat": 4
 },
 "nbformat": 4,
 "nbformat_minor": 2
}
