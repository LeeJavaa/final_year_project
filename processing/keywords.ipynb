{
 "cells": [
  {
   "cell_type": "code",
   "execution_count": 1,
   "metadata": {},
   "outputs": [],
   "source": [
    "import pandas as pd"
   ]
  },
  {
   "cell_type": "code",
   "execution_count": 8,
   "metadata": {},
   "outputs": [],
   "source": [
    "valDf = pd.read_csv('../data/dataset/validation/validation_transcript.csv')"
   ]
  },
  {
   "cell_type": "code",
   "execution_count": 3,
   "metadata": {},
   "outputs": [],
   "source": [
    "keywordList = ['control', 'control system', 'controls',  'control systems']"
   ]
  },
  {
   "cell_type": "code",
   "execution_count": 4,
   "metadata": {},
   "outputs": [],
   "source": [
    "def count_matching_words(transcript): \n",
    "    # Use list comprehension to count matching words\n",
    "    return sum(transcript.count(word) for word in keywordList)"
   ]
  },
  {
   "cell_type": "code",
   "execution_count": 9,
   "metadata": {},
   "outputs": [],
   "source": [
    "valDf['controlCount'] = valDf['transcript'].apply(count_matching_words)"
   ]
  },
  {
   "cell_type": "code",
   "execution_count": 10,
   "metadata": {},
   "outputs": [
    {
     "name": "stdout",
     "output_type": "stream",
     "text": [
      "            id                                         transcript  \\\n",
      "0  vNoFdtcPFdk  [Music]foreignso in the last lecture we derive...   \n",
      "1  H0Zbg_CqMCs  [Music]foreignso this is another video in our ...   \n",
      "2  M0ewnewuciY  welcome back okayI had a typo in my last my la...   \n",
      "3  D1WfID6kk90  [Music]welcome back so we've been talking abou...   \n",
      "4  q1phVuNCuf0  [Music]foreignwelcome backso we have introduce...   \n",
      "\n",
      "   controlCount  \n",
      "0             1  \n",
      "1             0  \n",
      "2             2  \n",
      "3             0  \n",
      "4            23  \n"
     ]
    }
   ],
   "source": [
    "print(valDf.head())"
   ]
  },
  {
   "cell_type": "code",
   "execution_count": 11,
   "metadata": {},
   "outputs": [],
   "source": [
    "valDf.to_csv('../data/dataset/validation/validation_control_count.csv', header=True, index=False)"
   ]
  }
 ],
 "metadata": {
  "kernelspec": {
   "display_name": "skripsie",
   "language": "python",
   "name": "python3"
  },
  "language_info": {
   "codemirror_mode": {
    "name": "ipython",
    "version": 3
   },
   "file_extension": ".py",
   "mimetype": "text/x-python",
   "name": "python",
   "nbconvert_exporter": "python",
   "pygments_lexer": "ipython3",
   "version": "3.10.6"
  }
 },
 "nbformat": 4,
 "nbformat_minor": 2
}
