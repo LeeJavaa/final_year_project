{
 "cells": [
  {
   "cell_type": "code",
   "execution_count": 2,
   "metadata": {},
   "outputs": [],
   "source": [
    "import librosa\n",
    "from pydub import AudioSegment\n",
    "import pandas as pd\n",
    "import numpy as np\n",
    "import re\n",
    "import seaborn as sns\n",
    "import matplotlib.pyplot as plt"
   ]
  },
  {
   "cell_type": "code",
   "execution_count": 3,
   "metadata": {},
   "outputs": [],
   "source": [
    "def convert_mp4_to_wav(input_file, output_file):\n",
    "    audio = AudioSegment.from_file(input_file, format=\"mp4\")\n",
    "    audio.export(output_file, format=\"wav\")\n"
   ]
  },
  {
   "cell_type": "code",
   "execution_count": 4,
   "metadata": {},
   "outputs": [],
   "source": [
    "audio_file = \"../data/audio/train/_BvAkyuWhOI.mp4\"\n",
    "convert_mp4_to_wav(audio_file, \"./audio.wav\")\n",
    "y, sr = librosa.load('./audio.wav')"
   ]
  },
  {
   "cell_type": "code",
   "execution_count": 5,
   "metadata": {},
   "outputs": [
    {
     "name": "stdout",
     "output_type": "stream",
     "text": [
      "46.08635\n",
      "197.84142\n",
      "151.75507\n"
     ]
    }
   ],
   "source": [
    "pitches, magnitudes = librosa.piptrack(y=y, sr=sr, fmin=60, fmax=200)\n",
    "threshold = 60\n",
    "pitches = pitches[magnitudes > threshold]\n",
    "pitch_range = pitches.max() - pitches.min()\n",
    "print(pitch_range)\n",
    "print(pitches.max())\n",
    "print(pitches.min())"
   ]
  },
  {
   "cell_type": "code",
   "execution_count": 6,
   "metadata": {},
   "outputs": [
    {
     "name": "stdout",
     "output_type": "stream",
     "text": [
      "133.24214630678978\n"
     ]
    }
   ],
   "source": [
    "frequencies = librosa.yin(y=y, sr=sr, fmin=60, fmax=200)\n",
    "print(np.mean(frequencies))"
   ]
  },
  {
   "cell_type": "code",
   "execution_count": 7,
   "metadata": {},
   "outputs": [
    {
     "name": "stdout",
     "output_type": "stream",
     "text": [
      "nan\n"
     ]
    }
   ],
   "source": [
    "frequencies_p = librosa.pyin(y=y, sr=sr, fmin=60, fmax=200)\n",
    "print(np.mean(frequencies_p))"
   ]
  }
 ],
 "metadata": {
  "kernelspec": {
   "display_name": "skripsie",
   "language": "python",
   "name": "python3"
  },
  "language_info": {
   "codemirror_mode": {
    "name": "ipython",
    "version": 3
   },
   "file_extension": ".py",
   "mimetype": "text/x-python",
   "name": "python",
   "nbconvert_exporter": "python",
   "pygments_lexer": "ipython3",
   "version": "3.10.6"
  },
  "orig_nbformat": 4
 },
 "nbformat": 4,
 "nbformat_minor": 2
}
